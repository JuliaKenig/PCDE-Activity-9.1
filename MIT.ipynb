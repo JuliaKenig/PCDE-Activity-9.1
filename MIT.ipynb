{
 "cells": [
  {
   "cell_type": "markdown",
   "metadata": {},
   "source": [
    "# The Massachusetts Institute of Technology (MIT)\n",
    "\n",
    "**Julia Goncharova; GitHub username - JuliaKenig**\n",
    "\n",
    "The Massachusetts Institute of Technology (MIT) is a private university in Cambridge, Massachusetts. Established in 1861, MIT has since then been at the center of the development of modern technology and science. Since it was founded, MIT has been ranked among the top academic institutions in the world.\n",
    "\n",
    "The original MIT logo was not created by Seymour Papert; rather, the official seal of MIT—featuring figures representing Science and Industry—was adopted in the 1860s. Seymour Papert, a prominent MIT professor, is better known for his work in artificial intelligence and education, not for designing the logo. The image below displays the original seal of MIT. The image below displays the original logo.\n",
    "\n",
    "![](MIT-Emblem.png)"
   ]
  },
  {
   "cell_type": "code",
   "execution_count": null,
   "metadata": {},
   "outputs": [],
   "source": []
  }
 ],
 "metadata": {
  "kernelspec": {
   "display_name": "Python 3",
   "language": "python",
   "name": "python3"
  },
  "language_info": {
   "codemirror_mode": {
    "name": "ipython",
    "version": 3
   },
   "file_extension": ".py",
   "mimetype": "text/x-python",
   "name": "python",
   "nbconvert_exporter": "python",
   "pygments_lexer": "ipython3",
   "version": "3.7.3"
  }
 },
 "nbformat": 4,
 "nbformat_minor": 4
}
